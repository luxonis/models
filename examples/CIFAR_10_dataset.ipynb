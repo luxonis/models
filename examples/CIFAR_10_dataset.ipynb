{
 "cells": [
  {
   "cell_type": "markdown",
   "id": "f9de6101",
   "metadata": {},
   "source": [
    "## Example CIFAR10 classification dataset"
   ]
  },
  {
   "cell_type": "code",
   "execution_count": 1,
   "id": "4c06d8fc",
   "metadata": {},
   "outputs": [],
   "source": [
    "import matplotlib.pyplot as plt\n",
    "import torchvision\n",
    "from luxonis_ml.data import LuxonisDataset, LuxonisLoader\n",
    "from luxonis_ml.enums import LabelType"
   ]
  },
  {
   "cell_type": "code",
   "execution_count": 2,
   "id": "e5a3a45c-7152-41a8-9ebf-db54cb84edcc",
   "metadata": {},
   "outputs": [],
   "source": [
    "# Delete dataset if exists\n",
    "\n",
    "dataset_name = \"cifar10_test\"\n",
    "if LuxonisDataset.exists(dataset_name):\n",
    "    dataset = LuxonisDataset(dataset_name)\n",
    "    dataset.delete_dataset()"
   ]
  },
  {
   "cell_type": "markdown",
   "id": "718c2791",
   "metadata": {},
   "source": [
    "### Get the data"
   ]
  },
  {
   "cell_type": "code",
   "execution_count": 3,
   "id": "5cc9ddf2",
   "metadata": {
    "scrolled": true
   },
   "outputs": [
    {
     "name": "stdout",
     "output_type": "stream",
     "text": [
      "Files already downloaded and verified\n"
     ]
    }
   ],
   "source": [
    "cifar10_torch = torchvision.datasets.CIFAR10(root=\"../data\", train=False, download=True)"
   ]
  },
  {
   "cell_type": "markdown",
   "id": "2befa6b3",
   "metadata": {},
   "source": [
    "### Convert to LuxonisDataset format\n",
    "\n",
    "`LuxonisDataset` will expect a generator that yields data in the following format:\n",
    "```\n",
    "- file [str] : path to file on local disk or object storage\n",
    "- class [str]: string specifying the class name or label name\n",
    "- type [str] : the type of label or annotation\n",
    "- value [Union[str, list, int, float, bool]]: the actual annotation value\n",
    "    For here are the expected structures for `value`.\n",
    "    The function will check to ensure `value` matches this for each annotation type\n",
    "\n",
    "    value (classification) [bool] : Marks whether the class is present or not\n",
    "        (e.g. True/False)\n",
    "    value (box) [List[float]] : the normalized (0-1) x, y, w, and h of a bounding box\n",
    "        (e.g. [0.5, 0.4, 0.1, 0.2])\n",
    "    value (polyline) [List[List[float]]] : an ordered list of [x, y] polyline points\n",
    "        (e.g. [[0.2, 0.3], [0.4, 0.5], ...])\n",
    "    value (keypoints) [List[List[float]]] : an ordered list of [x, y, visibility] keypoints for a keypoint skeleton instance\n",
    "        (e.g. [[0.2, 0.3, 2], [0.4, 0.5, 2], ...])\n",
    "```"
   ]
  },
  {
   "cell_type": "code",
   "execution_count": 4,
   "id": "4404049f",
   "metadata": {},
   "outputs": [],
   "source": [
    "classes = [\n",
    "    \"airplane\",\n",
    "    \"automobile\",\n",
    "    \"bird\",\n",
    "    \"cat\",\n",
    "    \"deer\",\n",
    "    \"dog\",\n",
    "    \"frog\",\n",
    "    \"horse\",\n",
    "    \"ship\",\n",
    "    \"truck\",\n",
    "]\n",
    "\n",
    "\n",
    "def CIFAR10_subset_generator():\n",
    "    for i, (image, label) in enumerate(cifar10_torch):\n",
    "        if i == 1000:\n",
    "            break\n",
    "        path = f\"../data/cifar_{i}.png\"\n",
    "        image.save(path)\n",
    "        yield {\n",
    "            \"file\": path,\n",
    "            \"class\": classes[label],\n",
    "            \"type\": \"classification\",\n",
    "            \"value\": True,\n",
    "        }"
   ]
  },
  {
   "cell_type": "code",
   "execution_count": 5,
   "id": "8171a7f9",
   "metadata": {
    "scrolled": true
   },
   "outputs": [
    {
     "name": "stdout",
     "output_type": "stream",
     "text": [
      "Generating UUIDs...\n",
      "Took 0.07454681396484375 seconds\n",
      "Saving annotations...\n"
     ]
    },
    {
     "name": "stderr",
     "output_type": "stream",
     "text": [
      "100%|█████████████████████████████████████████████████████████████████████████████████████████████████████████████████| 1000/1000 [00:00<00:00, 76055.41it/s]"
     ]
    },
    {
     "name": "stdout",
     "output_type": "stream",
     "text": [
      "Took 0.015446662902832031 seconds\n"
     ]
    },
    {
     "name": "stderr",
     "output_type": "stream",
     "text": [
      "\n"
     ]
    }
   ],
   "source": [
    "dataset = LuxonisDataset(dataset_name)\n",
    "dataset.set_classes(classes)\n",
    "\n",
    "dataset.add(CIFAR10_subset_generator)"
   ]
  },
  {
   "cell_type": "markdown",
   "id": "d9454797-d804-45f1-92dc-393f76be2219",
   "metadata": {},
   "source": [
    "### Define Splits"
   ]
  },
  {
   "cell_type": "code",
   "execution_count": 6,
   "id": "e2094a5d-0371-48da-91f1-b9590686339d",
   "metadata": {},
   "outputs": [],
   "source": [
    "# without providing manual splits, this will randomly split the data\n",
    "dataset.make_splits()"
   ]
  },
  {
   "cell_type": "markdown",
   "id": "828f6d36-d5f1-4c68-9f70-80d26d45690e",
   "metadata": {},
   "source": [
    "### Test Loader"
   ]
  },
  {
   "cell_type": "code",
   "execution_count": 7,
   "id": "fda91cd6-9fe5-43ee-ab88-3dfc57ff89ef",
   "metadata": {},
   "outputs": [
    {
     "name": "stdout",
     "output_type": "stream",
     "text": [
      "Sample classification tensor\n",
      "[0. 0. 1. 0. 0. 0. 0. 0. 0. 0.]\n",
      "\n"
     ]
    },
    {
     "data": {
      "image/png": "[encoded data removed]",
      "text/plain": [
       "<Figure size 640x480 with 1 Axes>"
      ]
     },
     "metadata": {},
     "output_type": "display_data"
    }
   ],
   "source": [
    "loader = LuxonisLoader(dataset, view=\"train\")\n",
    "for image, ann in loader:\n",
    "    cls = ann[LabelType.CLASSIFICATION]\n",
    "\n",
    "    print(\"Sample classification tensor\")\n",
    "    print(cls)\n",
    "    print()\n",
    "\n",
    "    h, w, _ = image.shape\n",
    "\n",
    "    plt.imshow(image)\n",
    "    plt.axis(\"off\")  # Optional: Hide axis\n",
    "    plt.show()\n",
    "    break"
   ]
  }
 ],
 "metadata": {
  "kernelspec": {
   "display_name": "Python 3 (ipykernel)",
   "language": "python",
   "name": "python3"
  },
  "language_info": {
   "codemirror_mode": {
    "name": "ipython",
    "version": 3
   },
   "file_extension": ".py",
   "mimetype": "text/x-python",
   "name": "python",
   "nbconvert_exporter": "python",
   "pygments_lexer": "ipython3",
   "version": "3.10.13"
  }
 },
 "nbformat": 4,
 "nbformat_minor": 5
}
